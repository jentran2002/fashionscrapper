{
 "cells": [
  {
   "cell_type": "markdown",
   "metadata": {},
   "source": [
    "Web scrapped data from Zara "
   ]
  },
  {
   "cell_type": "code",
   "execution_count": null,
   "metadata": {},
   "outputs": [],
   "source": [
    "import os\n",
    "import ast\n",
    "import pandas as pd\n",
    "import requests\n",
    "from PIL import Image\n",
    "from io import BytesIO\n",
    "from tqdm import tqdm\n",
    "import glob\n",
    "import time\n",
    "import random\n",
    "import json\n",
    "\n",
    "# Define directories\n",
    "MEN_DIR = os.path.join(os.getcwd(), 'MEN')\n",
    "IMAGES_DIR = os.path.join(os.getcwd(), 'images')  # Changed from img_cache to images\n",
    "\n",
    "# Create the image directory if it doesn't exist\n",
    "os.makedirs(IMAGES_DIR, exist_ok=True)\n",
    "print(f\"Image directory: {IMAGES_DIR}\")\n",
    "\n",
    "# Define image size\n",
    "IMG_SIZE = (224, 224)  # Adjust as needed\n",
    "\n",
    "# Test directory write permissions\n",
    "test_file_path = os.path.join(IMAGES_DIR, \"test.txt\")\n",
    "try:\n",
    "    with open(test_file_path, 'w') as f:\n",
    "        f.write(\"Test\")\n",
    "    os.remove(test_file_path)\n",
    "    print(\"Directory is writable\")\n",
    "except Exception as e:\n",
    "    print(f\"WARNING: Directory write test failed: {e}\")\n",
    "\n",
    "# Process CSV files\n",
    "all_csvs = glob.glob(os.path.join(MEN_DIR, '*.csv'))\n",
    "print(f\"Found {len(all_csvs)} CSV files\")\n",
    "\n",
    "data = []\n",
    "labels = []\n",
    "label_names = []\n",
    "\n",
    "for csv_path in all_csvs:\n",
    "    label = os.path.splitext(os.path.basename(csv_path))[0].replace('_', ' ').replace('-', ' ')\n",
    "    # Remove labels that are not explicitly tied to clothing or do not have sufficient data\n",
    "    if label.lower() in ['beauty', 'perfumes', 'accessories', 'bags backpacks', 'suits', 'linen', 'jeans']:\n",
    "        continue  \n",
    "    \n",
    "    label_names.append(label)\n",
    "    print(f\"Processing {label} from {os.path.basename(csv_path)}\")\n",
    "    \n",
    "    df = pd.read_csv(csv_path)\n",
    "    processed_rows = 0\n",
    "    \n",
    "    for _, row in df.iterrows():\n",
    "        img_list_str = row.get(' product_images') or row.get('product_images')\n",
    "        if not isinstance(img_list_str, str) or not img_list_str.strip().startswith('['):\n",
    "            continue\n",
    "        \n",
    "        try:\n",
    "            img_list = ast.literal_eval(img_list_str)\n",
    "            if not img_list or not isinstance(img_list, list):\n",
    "                continue\n",
    "                \n",
    "            for img_dict in img_list:\n",
    "                url = list(img_dict.keys())[0]\n",
    "                data.append((url, label))\n",
    "                labels.append(label)\n",
    "                processed_rows += 1\n",
    "        except Exception as e:\n",
    "            pass\n",
    "    \n",
    "    print(f\"  - Extracted {processed_rows} images from {label}\")\n",
    "\n",
    "# Create mapping of labels to indices\n",
    "label_names = sorted(list(set(labels)))\n",
    "label_to_idx = {name: i for i, name in enumerate(label_names)}\n",
    "print(f\"Found {len(label_names)} unique categories: {', '.join(label_names)}\")\n",
    "print(f\"Total image URLs collected: {len(data)}\")\n",
    "\n",
    "# Create a log file\n",
    "log_file = os.path.join(IMAGES_DIR, \"download_log.txt\")\n",
    "with open(log_file, 'w') as f:\n",
    "    f.write(f\"Download started with {len(data)} images\\n\")\n",
    "\n",
    "# Create status tracking files\n",
    "status_file = os.path.join(IMAGES_DIR, \"download_status.json\")\n",
    "invalid_urls_file = os.path.join(IMAGES_DIR, \"invalid_urls.txt\")\n",
    "\n",
    "# Initialize status tracking\n",
    "status = {\n",
    "    \"total_urls\": len(data),\n",
    "    \"successful_downloads\": 0,\n",
    "    \"failed_downloads\": 0,\n",
    "    \"not_found_errors\": 0,\n",
    "    \"forbidden_errors\": 0,\n",
    "    \"other_errors\": 0,\n",
    "    \"success_by_category\": {label: 0 for label in label_names},\n",
    "    \"last_processed_index\": 0\n",
    "}\n",
    "\n",
    "# Check if status file exists and load it to resume\n",
    "if os.path.exists(status_file):\n",
    "    try:\n",
    "        with open(status_file, 'r') as f:\n",
    "            saved_status = json.load(f)\n",
    "            status.update(saved_status)\n",
    "            print(f\"Resuming from index {status['last_processed_index']} with {status['successful_downloads']} images already downloaded\")\n",
    "    except Exception as e:\n",
    "        print(f\"Error loading status file: {e}. Starting from scratch.\")\n",
    "\n",
    "# Initialize invalid URLs file if not exists\n",
    "if not os.path.exists(invalid_urls_file):\n",
    "    with open(invalid_urls_file, 'w') as f:\n",
    "        f.write(\"# List of invalid URLs\\n\")\n",
    "\n",
    "# User agent list to rotate\n",
    "user_agents = [\n",
    "    'Mozilla/5.0 (Windows NT 10.0; Win64; x64) AppleWebKit/537.36 (KHTML, like Gecko) Chrome/91.0.4472.124 Safari/537.36',\n",
    "    'Mozilla/5.0 (X11; Linux x86_64) AppleWebKit/537.36 (KHTML, like Gecko) Chrome/92.0.4515.107 Safari/537.36',\n",
    "    'Mozilla/5.0 (Windows NT 10.0; Win64; x64; rv:90.0) Gecko/20100101 Firefox/90.0',\n",
    "    'Mozilla/5.0 (Macintosh; Intel Mac OS X 10_15_7) AppleWebKit/605.1.15 (KHTML, like Gecko) Version/15.0 Safari/605.1.15',\n",
    "    'Mozilla/5.0 (Macintosh; Intel Mac OS X 10_15_7) AppleWebKit/537.36 (KHTML, like Gecko) Chrome/90.0.4430.212 Safari/537.36'\n",
    "]\n",
    "\n",
    "# Referrers to rotate\n",
    "referrers = [\n",
    "    'https://www.zara.com/us/',\n",
    "    'https://www.zara.com/us/en/man-shirts-l737.html',\n",
    "    'https://www.zara.com/us/en/man-jeans-l659.html',\n",
    "    'https://www.zara.com/',\n",
    "    'https://www.google.com/'\n",
    "]\n",
    "\n",
    "# Download images with improved error handling\n",
    "img_paths = []\n",
    "y = []\n",
    "error_types = {}\n",
    "\n",
    "# Start from the last processed index for resuming\n",
    "start_idx = status[\"last_processed_index\"]\n",
    "data_to_process = data[start_idx:]\n",
    "\n",
    "for idx, (url, label) in enumerate(tqdm(data_to_process, desc='Downloading images')):\n",
    "    # Calculate the actual index in the original data list\n",
    "    actual_idx = idx + start_idx\n",
    "    img_filename = os.path.join(IMAGES_DIR, f'{label}_{actual_idx}.jpg')\n",
    "    \n",
    "    # Update the last processed index in status\n",
    "    status[\"last_processed_index\"] = actual_idx\n",
    "    \n",
    "    # Save status periodically\n",
    "    if actual_idx % 10 == 0:\n",
    "        with open(status_file, 'w') as f:\n",
    "            json.dump(status, f, indent=2)\n",
    "    \n",
    "    if not os.path.exists(img_filename):\n",
    "        try:\n",
    "            # Add delay between requests (important to avoid blocking)\n",
    "            time.sleep(random.uniform(1.0, 3.0))\n",
    "            \n",
    "            # For debug purposes, print every 50th URL\n",
    "            if idx % 50 == 0:\n",
    "                print(f\"Downloading {actual_idx}: {url[:60]}...\")\n",
    "                \n",
    "            # Create headers that mimic a real browser\n",
    "            headers = {\n",
    "                'User-Agent': random.choice(user_agents),\n",
    "                'Accept': 'image/avif,image/webp,image/apng,image/svg+xml,image/*,*/*;q=0.8',\n",
    "                'Accept-Language': 'en-US,en;q=0.9',\n",
    "                'Referer': random.choice(referrers),\n",
    "                'Connection': 'keep-alive',\n",
    "                'Cache-Control': 'max-age=0',\n",
    "                'sec-ch-ua': '\"Google Chrome\";v=\"91\", \" Not;A Brand\";v=\"99\", \"Chromium\";v=\"91\"',\n",
    "                'sec-ch-ua-mobile': '?0',\n",
    "                'sec-fetch-dest': 'image',\n",
    "                'sec-fetch-mode': 'no-cors',\n",
    "                'sec-fetch-site': 'same-origin',\n",
    "            }\n",
    "            \n",
    "            # Download the image with headers\n",
    "            r = requests.get(url, headers=headers, timeout=15)\n",
    "            r.raise_for_status()\n",
    "            \n",
    "            # Validate that we received image data\n",
    "            content_type = r.headers.get('Content-Type', '')\n",
    "            if not content_type.startswith('image/'):\n",
    "                raise ValueError(f\"Content is not an image: {content_type}\")\n",
    "                \n",
    "            # Process and save the image\n",
    "            img = Image.open(BytesIO(r.content)).convert('RGB')\n",
    "            img = img.resize(IMG_SIZE)\n",
    "            img.save(img_filename)\n",
    "            \n",
    "            # Update success counters\n",
    "            status[\"successful_downloads\"] += 1\n",
    "            status[\"success_by_category\"][label] = status[\"success_by_category\"].get(label, 0) + 1\n",
    "            \n",
    "            # Log progress periodically\n",
    "            if status[\"successful_downloads\"] % 20 == 0:\n",
    "                print(f\"Successfully downloaded {status['successful_downloads']} images so far\")\n",
    "                with open(log_file, 'a') as f:\n",
    "                    f.write(f\"Downloaded {status['successful_downloads']} images\\n\")\n",
    "                    \n",
    "        except requests.exceptions.HTTPError as e:\n",
    "            status[\"failed_downloads\"] += 1\n",
    "            \n",
    "            # Categorize HTTP errors\n",
    "            if e.response.status_code == 404:\n",
    "                status[\"not_found_errors\"] += 1\n",
    "                error_status = \"NOT_FOUND (404)\"\n",
    "                \n",
    "                # Record invalid URL\n",
    "                with open(invalid_urls_file, 'a') as f:\n",
    "                    f.write(f\"{url}\\n\")\n",
    "                \n",
    "                # Try an alternative URL format\n",
    "                alt_url = None\n",
    "                if '/w/0/' in url:\n",
    "                    alt_url = url.replace('/w/0/', '/w/448/')\n",
    "                elif '/w/448/' in url:\n",
    "                    alt_url = url.replace('/w/448/', '/w/0/')\n",
    "                \n",
    "                if alt_url:\n",
    "                    try:\n",
    "                        # Try the alternative URL\n",
    "                        time.sleep(random.uniform(1.0, 2.0))\n",
    "                        r = requests.get(alt_url, headers=headers, timeout=15)\n",
    "                        r.raise_for_status()\n",
    "                        \n",
    "                        # Validate that we received image data\n",
    "                        content_type = r.headers.get('Content-Type', '')\n",
    "                        if not content_type.startswith('image/'):\n",
    "                            raise ValueError(f\"Content is not an image: {content_type}\")\n",
    "                            \n",
    "                        # Process and save the image\n",
    "                        img = Image.open(BytesIO(r.content)).convert('RGB')\n",
    "                        img = img.resize(IMG_SIZE)\n",
    "                        img.save(img_filename)\n",
    "                        \n",
    "                        # Update success counters\n",
    "                        status[\"successful_downloads\"] += 1\n",
    "                        status[\"success_by_category\"][label] = status[\"success_by_category\"].get(label, 0) + 1\n",
    "                        \n",
    "                        # Log the recovery\n",
    "                        print(f\"Recovered 404 image using alternative URL: {alt_url[:60]}...\")\n",
    "                        with open(log_file, 'a') as f:\n",
    "                            f.write(f\"Recovered URL {url} with alternative {alt_url}\\n\")\n",
    "                            \n",
    "                        # Continue to next image\n",
    "                        img_paths.append(img_filename)\n",
    "                        y.append(label_to_idx[label])\n",
    "                        continue\n",
    "                        \n",
    "                    except Exception:\n",
    "                        # If alternative URL also fails, continue with the error handling\n",
    "                        pass\n",
    "                        \n",
    "            elif e.response.status_code == 403:\n",
    "                status[\"forbidden_errors\"] += 1\n",
    "                error_status = \"FORBIDDEN (403)\"\n",
    "            else:\n",
    "                status[\"other_errors\"] += 1\n",
    "                error_status = f\"HTTP_ERROR ({e.response.status_code})\"\n",
    "                \n",
    "            # Log HTTP errors\n",
    "            print(f\"Error ({error_status}) with {url}: {str(e)}\")\n",
    "            with open(log_file, 'a') as f:\n",
    "                f.write(f\"Error ({error_status}) with {url}: {str(e)}\\n\")\n",
    "                \n",
    "            continue\n",
    "            \n",
    "        except Exception as e:\n",
    "            # Handle other types of errors\n",
    "            status[\"failed_downloads\"] += 1\n",
    "            status[\"other_errors\"] += 1\n",
    "            error_type = type(e).__name__\n",
    "            error_types[error_type] = error_types.get(error_type, 0) + 1\n",
    "            \n",
    "            # Only print the first few errors of each type\n",
    "            if error_types[error_type] <= 5:\n",
    "                print(f\"Error ({error_type}) with {url}: {str(e)}\")\n",
    "                \n",
    "            # Log errors\n",
    "            with open(log_file, 'a') as f:\n",
    "                f.write(f\"Error ({error_type}) with {url}: {str(e)}\\n\")\n",
    "                \n",
    "            continue\n",
    "    else:\n",
    "        # Image already exists\n",
    "        status[\"successful_downloads\"] += 1\n",
    "        status[\"success_by_category\"][label] = status[\"success_by_category\"].get(label, 0) + 1\n",
    "        \n",
    "    img_paths.append(img_filename)\n",
    "    y.append(label_to_idx[label])\n",
    "\n",
    "    # Update status after every 10 images\n",
    "    if actual_idx % 10 == 0:\n",
    "        with open(status_file, 'w') as f:\n",
    "            json.dump(status, f, indent=2)\n",
    "\n",
    "# Final status save\n",
    "with open(status_file, 'w') as f:\n",
    "    json.dump(status, f, indent=2)\n",
    "\n",
    "# Create a detailed status summary\n",
    "status_summary = os.path.join(IMAGES_DIR, \"status_summary.txt\")\n",
    "with open(status_summary, 'w') as f:\n",
    "    f.write(\"=== DOWNLOAD STATUS SUMMARY ===\\n\\n\")\n",
    "    f.write(f\"Total URLs: {status['total_urls']}\\n\")\n",
    "    f.write(f\"Successfully downloaded: {status['successful_downloads']} ({status['successful_downloads']/status['total_urls']*100:.2f}%)\\n\")\n",
    "    f.write(f\"Failed downloads: {status['failed_downloads']} ({status['failed_downloads']/status['total_urls']*100:.2f}%)\\n\\n\")\n",
    "    \n",
    "    f.write(\"Failure details:\\n\")\n",
    "    f.write(f\"  - Not Found (404) errors: {status['not_found_errors']}\\n\")\n",
    "    f.write(f\"  - Forbidden (403) errors: {status['forbidden_errors']}\\n\")\n",
    "    f.write(f\"  - Other errors: {status['other_errors']}\\n\\n\")\n",
    "    \n",
    "    f.write(\"Downloads by category:\\n\")\n",
    "    for label, count in status[\"success_by_category\"].items():\n",
    "        total_in_category = sum(1 for _, l in data if l == label)\n",
    "        if total_in_category > 0:\n",
    "            success_rate = count / total_in_category * 100\n",
    "            f.write(f\"  - {label}: {count}/{total_in_category} ({success_rate:.2f}%)\\n\")\n",
    "\n",
    "# Print summary to console\n",
    "print(f\"\\nDownload summary:\")\n",
    "print(f\"  - Total URLs: {status['total_urls']}\")\n",
    "print(f\"  - Successfully downloaded: {status['successful_downloads']} ({status['successful_downloads']/status['total_urls']*100:.2f}%)\")\n",
    "print(f\"  - Failed downloads: {status['failed_downloads']} ({status['failed_downloads']/status['total_urls']*100:.2f}%)\")\n",
    "print(f\"  - Not Found (404) errors: {status['not_found_errors']}\")\n",
    "print(f\"  - Forbidden (403) errors: {status['forbidden_errors']}\")\n",
    "print(f\"  - Other errors: {status['other_errors']}\")\n",
    "print(f\"  - Images in final dataset: {len(img_paths)}\")\n",
    "print(f\"\\nDetailed summary saved to: {status_summary}\")\n",
    "print(f\"Invalid URLs saved to: {invalid_urls_file}\")\n",
    "\n",
    "# Write summary to log\n",
    "with open(log_file, 'a') as f:\n",
    "    f.write(f\"\\n--- FINAL SUMMARY ---\\n\")\n",
    "    f.write(f\"Total URLs: {status['total_urls']}\\n\")\n",
    "    f.write(f\"Successfully downloaded: {status['successful_downloads']}\\n\")\n",
    "    f.write(f\"Failed downloads: {status['failed_downloads']}\\n\")\n",
    "    f.write(f\"Not Found (404) errors: {status['not_found_errors']}\\n\")\n",
    "    f.write(f\"Forbidden (403) errors: {status['forbidden_errors']}\\n\")\n",
    "    f.write(f\"Other errors: {status['other_errors']}\\n\")\n",
    "    f.write(f\"Images in final dataset: {len(img_paths)}\\n\")\n",
    "\n",
    "# If no images were downloaded, print a more detailed error\n",
    "if status[\"successful_downloads\"] == 0:\n",
    "    print(\"\\nNo images were successfully downloaded! Possible issues:\")\n",
    "    print(\"1. URL format may be incorrect\")\n",
    "    print(\"2. Network connectivity issues\")\n",
    "    print(\"3. Permission issues with the images directory\")\n",
    "    print(\"4. The URLs might not be pointing to valid images\")\n",
    "    \n",
    "    # Try to save a simple test image to check directory permissions\n",
    "    try:\n",
    "        # Create a small blank image\n",
    "        test_img = Image.new('RGB', (10, 10), color='red')\n",
    "        test_path = os.path.join(IMAGES_DIR, 'test_image.jpg')\n",
    "        test_img.save(test_path)\n",
    "        print(f\"Successfully created test image at: {test_path}\")\n",
    "    except Exception as e:\n",
    "        print(f\"Failed to create test image: {e}\")\n",
    "\n",
    "# Create a dataset metadata file\n",
    "dataset_metadata = os.path.join(IMAGES_DIR, \"dataset_metadata.json\")\n",
    "with open(dataset_metadata, 'w') as f:\n",
    "    json.dump({\n",
    "        \"total_images\": len(img_paths),\n",
    "        \"categories\": label_names,\n",
    "        \"label_to_idx\": label_to_idx,\n",
    "        \"category_counts\": status[\"success_by_category\"],\n",
    "        \"download_date\": time.strftime(\"%Y-%m-%d %H:%M:%S\")\n",
    "    }, f, indent=2)\n",
    "\n",
    "print(f\"\\nDataset metadata saved to: {dataset_metadata}\")\n",
    "print(\"Download process complete!\")"
   ]
  },
  {
   "cell_type": "markdown",
   "metadata": {},
   "source": [
    "# PART 1: DATA PREPROCESSING"
   ]
  },
  {
   "cell_type": "markdown",
   "metadata": {},
   "source": [
    "The data preprocessing stage began with web scraping clothing images from Zara, which were downloaded and organized by category. A crucial step involved mapping original fine-grained labels to four broad clothing categories for more effective classification. All images were processed by resizing to a consistent 160x160 pixel dimension, converting to RGB format, and normalizing pixel values by dividing by 255.0. The raw category labels were mapped to four unified categories (Athletic, Bottoms, Natural, and Tops) and encoded numerically using a label-to-index dictionary. To prepare the data for training, an 80/20 train-test split was implemented with stratification to maintain class distribution across sets. Data augmentation techniques were applied through ImageDataGenerator, including rotation, width and height shifts, horizontal flipping, and zoom variation to artificially expand the training dataset. The final dataset contained 1,664 images with a notable imbalance: 182 Athletic, 406 Bottoms, 24 Natural, and 1,052 Tops images"
   ]
  },
  {
   "cell_type": "code",
   "execution_count": 48,
   "metadata": {},
   "outputs": [],
   "source": [
    "import os\n",
    "import numpy as np\n",
    "from tqdm import tqdm\n",
    "from PIL import Image\n",
    "import matplotlib.pyplot as plt\n",
    "from sklearn.model_selection import train_test_split\n",
    "from sklearn.metrics import classification_report, confusion_matrix\n",
    "import tensorflow as tf\n",
    "from tensorflow.keras.applications import MobileNetV2 \n",
    "from tensorflow.keras.preprocessing.image import ImageDataGenerator\n",
    "from tensorflow.keras.layers import Dense, GlobalAveragePooling2D, Dropout\n",
    "from tensorflow.keras.models import Model\n",
    "from tensorflow.keras.optimizers import Adam\n",
    "from tensorflow.keras.callbacks import EarlyStopping"
   ]
  },
  {
   "cell_type": "code",
   "execution_count": 49,
   "metadata": {},
   "outputs": [
    {
     "name": "stdout",
     "output_type": "stream",
     "text": [
      "Mixed precision enabled\n"
     ]
    }
   ],
   "source": [
    "# Enable mixed precision for faster training\n",
    "try:\n",
    "    policy = tf.keras.mixed_precision.Policy('mixed_float16')\n",
    "    tf.keras.mixed_precision.set_global_policy(policy)\n",
    "    print(\"Mixed precision enabled\")\n",
    "except:\n",
    "    print(\"Mixed precision not available\")"
   ]
  },
  {
   "cell_type": "code",
   "execution_count": 50,
   "metadata": {},
   "outputs": [],
   "source": [
    "# Parameters!\n",
    "IMG_SIZE = (160, 160)  \n",
    "BATCH_SIZE = 32\n",
    "EPOCHS = 10 \n",
    "IMAGES_DIR = '/Users/jennifertran/Desktop/Spring PT 2 2025/DeepLearning/FinalProject/images'"
   ]
  },
  {
   "cell_type": "code",
   "execution_count": 51,
   "metadata": {},
   "outputs": [],
   "source": [
    "# mapping from original labels to 5 categories\n",
    "category_mapping = {\n",
    "    'T SHIRTS': 'Tops',\n",
    "    'POLO SHIRTS': 'Tops',\n",
    "    'SHIRTS': 'Tops',\n",
    "    \n",
    "    'BLAZERS': 'Tops',\n",
    "    'HOODIES SWEATSHIRTS': 'Tops',\n",
    "    'OVERSHIRTS': 'Tops',\n",
    "    'SWEATERS CARDIGANS': 'Tops',\n",
    "    \n",
    "    'TROUSERS': 'Bottoms',\n",
    "    'JEANS': 'Bottoms',\n",
    "    'SHORTS': 'Bottoms',\n",
    "    \n",
    "    'ZARA ATHLETICZ': 'Athletic',\n",
    "    'SWIMWEAR': 'Athletic',\n",
    "    \n",
    "    'ZARA ORIGINS': 'Natural',\n",
    "    'LINEN': 'Natural'\n",
    "}"
   ]
  },
  {
   "cell_type": "code",
   "execution_count": 52,
   "metadata": {},
   "outputs": [
    {
     "name": "stderr",
     "output_type": "stream",
     "text": [
      "Loading images: 100%|██████████| 2125/2125 [00:01<00:00, 1271.24it/s]\n"
     ]
    }
   ],
   "source": [
    "# Load all image paths from the directory\n",
    "img_paths = []\n",
    "for filename in os.listdir(IMAGES_DIR):\n",
    "    if filename.endswith('.jpg') and not filename.startswith('.'):\n",
    "        img_paths.append(os.path.join(IMAGES_DIR, filename))\n",
    "\n",
    "#putting it all in batches to make it faster\n",
    "X = []\n",
    "y = []\n",
    "labels = []\n",
    "\n",
    "for path in tqdm(img_paths, desc='Loading images'):\n",
    "    try:\n",
    "        filename = os.path.basename(path)\n",
    "        parts = filename.split('_')\n",
    "        if len(parts) > 1:\n",
    "            original_label = '_'.join(parts[:-1])\n",
    "            if original_label in category_mapping:\n",
    "                img = Image.open(path).convert('RGB')\n",
    "                img = img.resize(IMG_SIZE)\n",
    "                X.append(np.array(img))\n",
    "                labels.append(category_mapping[original_label])\n",
    "    except Exception as e:\n",
    "        continue"
   ]
  },
  {
   "cell_type": "code",
   "execution_count": 53,
   "metadata": {},
   "outputs": [],
   "source": [
    "# Convert labels to indices\n",
    "unique_labels = sorted(list(set(labels)))\n",
    "label_to_idx = {label: idx for idx, label in enumerate(unique_labels)}\n",
    "y = np.array([label_to_idx[label] for label in labels])\n",
    "X = np.array(X) / 255.0  "
   ]
  },
  {
   "cell_type": "code",
   "execution_count": 54,
   "metadata": {},
   "outputs": [
    {
     "data": {
      "text/plain": [
       "(1664, ['Athletic', 'Bottoms', 'Natural', 'Tops'])"
      ]
     },
     "execution_count": 54,
     "metadata": {},
     "output_type": "execute_result"
    }
   ],
   "source": [
    "#num of images:\n",
    "len(X),unique_labels"
   ]
  },
  {
   "cell_type": "code",
   "execution_count": 55,
   "metadata": {},
   "outputs": [
    {
     "name": "stdout",
     "output_type": "stream",
     "text": [
      "Athletic: 182 images\n",
      "Bottoms: 406 images\n",
      "Natural: 24 images\n",
      "Tops: 1052 images\n"
     ]
    }
   ],
   "source": [
    "for label in unique_labels:\n",
    "    count = labels.count(label)\n",
    "    print(f\"{label}: {count} images\")"
   ]
  },
  {
   "cell_type": "code",
   "execution_count": 68,
   "metadata": {},
   "outputs": [
    {
     "data": {
      "image/png": "[encoded data removed]",
      "text/plain": [
       "<Figure size 1000x600 with 1 Axes>"
      ]
     },
     "metadata": {},
     "output_type": "display_data"
    }
   ],
   "source": [
    "category_counts = [labels.count(label) for label in unique_labels]\n",
    "\n",
    "plt.figure(figsize=(10, 6))\n",
    "bars = plt.bar(unique_labels, category_counts, color=['#3498db', '#2ecc71', '#f39c12', '#e74c3c'])\n",
    "\n",
    "for bar in bars:\n",
    "    height = bar.get_height()\n",
    "    plt.text(bar.get_x() + bar.get_width()/2., height + 5,\n",
    "            f'{height}', ha='center', va='bottom', fontweight='bold')\n",
    "\n",
    "plt.title('Distribution of Images Across Clothing Categories', fontsize=16)\n",
    "plt.xlabel('Categories', fontsize=14)\n",
    "plt.ylabel('Number of Images', fontsize=14)\n",
    "plt.grid(axis='y', linestyle='--', alpha=0.7)\n",
    "plt.ylim(0, max(category_counts) * 1.1)\n",
    "\n",
    "total = sum(category_counts)\n",
    "for bar in bars:\n",
    "    height = bar.get_height()\n",
    "    percentage = height / total * 100\n",
    "    plt.text(bar.get_x() + bar.get_width()/2., height/2,\n",
    "            f'{percentage:.1f}%', ha='center', va='center', \n",
    "            fontweight='bold', color='white')\n",
    "\n",
    "plt.tight_layout()\n",
    "plt.show()\n"
   ]
  },
  {
   "cell_type": "markdown",
   "metadata": {},
   "source": [
    "# PART 2: MODEL IMPLEMENTATION \n"
   ]
  },
  {
   "cell_type": "markdown",
   "metadata": {},
   "source": [
    "We wanted to focus on efficienct and optimization through a transfer learning approach. MobileNetV2 was selected as the base model with pre-trained ImageNet weights due to its excellent balance of performance and efficiency on limited computational resources aka our computers. The base model layers were frozen to leverage the feature extraction capabilities already learned from ImageNet, allowing the model to adapt to clothing classification with minimal training. The architecture included the MobileNetV2 base followed by a Global Average Pooling layer to reduce spatial dimensions, a dense layer with 128 units and ReLU activation, a dropout layer (0.5) for regularization, and finally an output layer with softmax activation for 4-class prediction. Mixed precision training was enabled for faster computation, with Adam optimizer (learning rate 0.001) and sparse categorical crossentropy loss function. The implementation leveraged TensorFlow/Keras for model construction, with a modular function approach for easy initialization and efficient batch processing during training.\n"
   ]
  },
  {
   "cell_type": "code",
   "execution_count": null,
   "metadata": {},
   "outputs": [],
   "source": [
    "def create_fast_model(input_shape, num_classes):\n",
    "    base_model = MobileNetV2(\n",
    "        weights='imagenet',\n",
    "        include_top=False,\n",
    "        input_shape=input_shape\n",
    "    )\n",
    "    \n",
    "    base_model.trainable = False\n",
    "    \n",
    "    x = base_model.output\n",
    "    x = GlobalAveragePooling2D()(x)\n",
    "    x = Dense(128, activation='relu')(x) \n",
    "    x = Dropout(0.5)(x)\n",
    "    predictions = Dense(num_classes, activation='softmax')(x)\n",
    "    \n",
    "    model = Model(inputs=base_model.input, outputs=predictions)\n",
    "    \n",
    "    model.compile(\n",
    "        optimizer=Adam(learning_rate=0.001),\n",
    "        loss='sparse_categorical_crossentropy',\n",
    "        metrics=['accuracy']\n",
    "    )\n",
    "    \n",
    "    return model"
   ]
  },
  {
   "cell_type": "code",
   "execution_count": 57,
   "metadata": {},
   "outputs": [],
   "source": [
    "datagen = ImageDataGenerator(\n",
    "    rotation_range=15,\n",
    "    width_shift_range=0.1,\n",
    "    height_shift_range=0.1,\n",
    "    horizontal_flip=True,\n",
    "    zoom_range=0.1,\n",
    "    fill_mode='nearest'\n",
    ")"
   ]
  },
  {
   "cell_type": "markdown",
   "metadata": {},
   "source": [
    "# PART 3: METHODS AND EXPERIMENTS \n"
   ]
  },
  {
   "cell_type": "markdown",
   "metadata": {},
   "source": [
    "The methodological approach was centered on effective training and evaluation strategies tailored to the clothing classification task. Transfer learning was employed using the pre-trained MobileNetV2 model to overcome the limitations of the relatively small dataset. Early stopping with a patience of 3 was implemented to prevent overfitting, automatically terminating training when validation loss stopped improving. Data augmentation was utilized during training to improve generalization by creating variations of the training images. Training was limited to 10 epochs maximum, with early termination based on validation loss performance. Key hyperparameters included a batch size of 32 for efficient GPU utilization, learning rate of 0.001, image size of 160x160 pixels (balancing detail and computational efficiency), and dropout rate of 0.5 to reduce overfitting. The evaluation approach used a stratified train-test split to ensure representative class distribution, with continuous monitoring of validation accuracy and loss during training. After training, a classification report was generated for detailed performance metrics across categories, and a confusion matrix was created to analyze misclassification patterns.\n"
   ]
  },
  {
   "cell_type": "code",
   "execution_count": 58,
   "metadata": {},
   "outputs": [],
   "source": [
    "X_train, X_val, y_train, y_val = train_test_split(\n",
    "    X, y, test_size=0.2, random_state=42, stratify=y\n",
    ")"
   ]
  },
  {
   "cell_type": "code",
   "execution_count": 59,
   "metadata": {},
   "outputs": [],
   "source": [
    "model = create_fast_model(\n",
    "    input_shape=(IMG_SIZE[0], IMG_SIZE[1], 3),\n",
    "    num_classes=len(unique_labels)\n",
    ")"
   ]
  },
  {
   "cell_type": "code",
   "execution_count": 60,
   "metadata": {},
   "outputs": [],
   "source": [
    "early_stopping = EarlyStopping(\n",
    "    monitor='val_loss',\n",
    "    patience=3,  \n",
    "    restore_best_weights=True\n",
    ")"
   ]
  },
  {
   "cell_type": "code",
   "execution_count": 61,
   "metadata": {},
   "outputs": [
    {
     "name": "stdout",
     "output_type": "stream",
     "text": [
      "Epoch 1/10\n"
     ]
    },
    {
     "name": "stderr",
     "output_type": "stream",
     "text": [
      "/Users/jennifertran/anaconda3/lib/python3.12/site-packages/keras/src/trainers/data_adapters/py_dataset_adapter.py:122: UserWarning: Your `PyDataset` class should call `super().__init__(**kwargs)` in its constructor. `**kwargs` can include `workers`, `use_multiprocessing`, `max_queue_size`. Do not pass these arguments to `fit()`, as they will be ignored.\n",
      "  self._warn_if_super_not_called()\n"
     ]
    },
    {
     "name": "stdout",
     "output_type": "stream",
     "text": [
      "\u001b[1m10/10\u001b[0m \u001b[32m━━━━━━━━━━━━━━━━━━━━\u001b[0m\u001b[37m\u001b[0m \u001b[1m30s\u001b[0m 2s/step - accuracy: 0.2756 - loss: 2.1589 - val_accuracy: 0.6637 - val_loss: 1.0674\n",
      "Epoch 2/10\n",
      "\u001b[1m10/10\u001b[0m \u001b[32m━━━━━━━━━━━━━━━━━━━━\u001b[0m\u001b[37m\u001b[0m \u001b[1m9s\u001b[0m 918ms/step - accuracy: 0.6800 - loss: 1.1649 - val_accuracy: 0.7267 - val_loss: 0.6916\n",
      "Epoch 3/10\n",
      "\u001b[1m10/10\u001b[0m \u001b[32m━━━━━━━━━━━━━━━━━━━━\u001b[0m\u001b[37m\u001b[0m \u001b[1m7s\u001b[0m 721ms/step - accuracy: 0.6968 - loss: 0.8991 - val_accuracy: 0.7568 - val_loss: 0.6135\n",
      "Epoch 4/10\n",
      "\u001b[1m10/10\u001b[0m \u001b[32m━━━━━━━━━━━━━━━━━━━━\u001b[0m\u001b[37m\u001b[0m \u001b[1m7s\u001b[0m 718ms/step - accuracy: 0.7912 - loss: 0.5772 - val_accuracy: 0.7508 - val_loss: 0.5961\n",
      "Epoch 5/10\n",
      "\u001b[1m 2/10\u001b[0m \u001b[32m━━━━\u001b[0m\u001b[37m━━━━━━━━━━━━━━━━\u001b[0m \u001b[1m2s\u001b[0m 273ms/step - accuracy: 0.7188 - loss: 0.7165"
     ]
    },
    {
     "name": "stderr",
     "output_type": "stream",
     "text": [
      "/Users/jennifertran/anaconda3/lib/python3.12/contextlib.py:158: UserWarning: Your input ran out of data; interrupting training. Make sure that your dataset or generator can generate at least `steps_per_epoch * epochs` batches. You may need to use the `.repeat()` function when building your dataset.\n",
      "  self.gen.throw(value)\n"
     ]
    },
    {
     "name": "stdout",
     "output_type": "stream",
     "text": [
      "\u001b[1m10/10\u001b[0m \u001b[32m━━━━━━━━━━━━━━━━━━━━\u001b[0m\u001b[37m\u001b[0m \u001b[1m4s\u001b[0m 368ms/step - accuracy: 0.7437 - loss: 0.6796 - val_accuracy: 0.7538 - val_loss: 0.5999\n",
      "Epoch 6/10\n",
      "\u001b[1m10/10\u001b[0m \u001b[32m━━━━━━━━━━━━━━━━━━━━\u001b[0m\u001b[37m\u001b[0m \u001b[1m6s\u001b[0m 571ms/step - accuracy: 0.7698 - loss: 0.5976 - val_accuracy: 0.7447 - val_loss: 0.6781\n",
      "Epoch 7/10\n",
      "\u001b[1m10/10\u001b[0m \u001b[32m━━━━━━━━━━━━━━━━━━━━\u001b[0m\u001b[37m\u001b[0m \u001b[1m7s\u001b[0m 700ms/step - accuracy: 0.8264 - loss: 0.6180 - val_accuracy: 0.7688 - val_loss: 0.5917\n",
      "Epoch 8/10\n",
      "\u001b[1m10/10\u001b[0m \u001b[32m━━━━━━━━━━━━━━━━━━━━\u001b[0m\u001b[37m\u001b[0m \u001b[1m6s\u001b[0m 638ms/step - accuracy: 0.7419 - loss: 0.6686 - val_accuracy: 0.7868 - val_loss: 0.5738\n",
      "Epoch 9/10\n",
      "\u001b[1m10/10\u001b[0m \u001b[32m━━━━━━━━━━━━━━━━━━━━\u001b[0m\u001b[37m\u001b[0m \u001b[1m6s\u001b[0m 638ms/step - accuracy: 0.7880 - loss: 0.6071 - val_accuracy: 0.7838 - val_loss: 0.5425\n",
      "Epoch 10/10\n",
      "\u001b[1m 2/10\u001b[0m \u001b[32m━━━━\u001b[0m\u001b[37m━━━━━━━━━━━━━━━━\u001b[0m \u001b[1m2s\u001b[0m 323ms/step - accuracy: 0.7578 - loss: 0.6223"
     ]
    },
    {
     "name": "stderr",
     "output_type": "stream",
     "text": [
      "2025-05-11 22:48:56.225916: I tensorflow/core/framework/local_rendezvous.cc:405] Local rendezvous is aborting with status: OUT_OF_RANGE: End of sequence\n",
      "\t [[{{node IteratorGetNext}}]]\n"
     ]
    },
    {
     "name": "stdout",
     "output_type": "stream",
     "text": [
      "\u001b[1m10/10\u001b[0m \u001b[32m━━━━━━━━━━━━━━━━━━━━\u001b[0m\u001b[37m\u001b[0m \u001b[1m5s\u001b[0m 464ms/step - accuracy: 0.7641 - loss: 0.6275 - val_accuracy: 0.7778 - val_loss: 0.5410\n"
     ]
    }
   ],
   "source": [
    "history = model.fit(\n",
    "    datagen.flow(X_train, y_train, batch_size=BATCH_SIZE),\n",
    "    steps_per_epoch=min(len(X_train) // BATCH_SIZE, 10),  # Limit steps for each epoc\n",
    "    epochs=EPOCHS,\n",
    "    validation_data=(X_val, y_val),\n",
    "    callbacks=[early_stopping],\n",
    "    verbose=1\n",
    ")"
   ]
  },
  {
   "cell_type": "markdown",
   "metadata": {},
   "source": [
    "# PART 4: RESULTS AND VISUALIZATION\n"
   ]
  },
  {
   "cell_type": "code",
   "execution_count": 62,
   "metadata": {},
   "outputs": [
    {
     "name": "stdout",
     "output_type": "stream",
     "text": [
      "\u001b[1m11/11\u001b[0m \u001b[32m━━━━━━━━━━━━━━━━━━━━\u001b[0m\u001b[37m\u001b[0m \u001b[1m4s\u001b[0m 342ms/step - accuracy: 0.7700 - loss: 0.5700\n"
     ]
    },
    {
     "data": {
      "text/plain": [
       "0.7777777910232544"
      ]
     },
     "execution_count": 62,
     "metadata": {},
     "output_type": "execute_result"
    }
   ],
   "source": [
    "val_loss, val_acc = model.evaluate(X_val, y_val, verbose=1)\n",
    "val_acc "
   ]
  },
  {
   "cell_type": "code",
   "execution_count": 63,
   "metadata": {},
   "outputs": [
    {
     "name": "stdout",
     "output_type": "stream",
     "text": [
      "\u001b[1m11/11\u001b[0m \u001b[32m━━━━━━━━━━━━━━━━━━━━\u001b[0m\u001b[37m\u001b[0m \u001b[1m7s\u001b[0m 483ms/step\n"
     ]
    }
   ],
   "source": [
    "y_pred = model.predict(X_val)\n",
    "y_pred_classes = np.argmax(y_pred, axis=1)\n"
   ]
  },
  {
   "cell_type": "code",
   "execution_count": 64,
   "metadata": {},
   "outputs": [
    {
     "name": "stdout",
     "output_type": "stream",
     "text": [
      "\n",
      "Classification Report:\n",
      "              precision    recall  f1-score   support\n",
      "\n",
      "    Athletic       0.73      0.61      0.67        36\n",
      "     Bottoms       0.66      0.60      0.63        81\n",
      "     Natural       0.00      0.00      0.00         5\n",
      "        Tops       0.82      0.89      0.85       211\n",
      "\n",
      "    accuracy                           0.78       333\n",
      "   macro avg       0.55      0.53      0.54       333\n",
      "weighted avg       0.76      0.78      0.77       333\n",
      "\n"
     ]
    },
    {
     "name": "stderr",
     "output_type": "stream",
     "text": [
      "/Users/jennifertran/anaconda3/lib/python3.12/site-packages/sklearn/metrics/_classification.py:1531: UndefinedMetricWarning: Precision is ill-defined and being set to 0.0 in labels with no predicted samples. Use `zero_division` parameter to control this behavior.\n",
      "  _warn_prf(average, modifier, f\"{metric.capitalize()} is\", len(result))\n",
      "/Users/jennifertran/anaconda3/lib/python3.12/site-packages/sklearn/metrics/_classification.py:1531: UndefinedMetricWarning: Precision is ill-defined and being set to 0.0 in labels with no predicted samples. Use `zero_division` parameter to control this behavior.\n",
      "  _warn_prf(average, modifier, f\"{metric.capitalize()} is\", len(result))\n",
      "/Users/jennifertran/anaconda3/lib/python3.12/site-packages/sklearn/metrics/_classification.py:1531: UndefinedMetricWarning: Precision is ill-defined and being set to 0.0 in labels with no predicted samples. Use `zero_division` parameter to control this behavior.\n",
      "  _warn_prf(average, modifier, f\"{metric.capitalize()} is\", len(result))\n"
     ]
    }
   ],
   "source": [
    "report = classification_report(\n",
    "    y_val,\n",
    "    y_pred_classes,\n",
    "    target_names=unique_labels,\n",
    "    output_dict=False\n",
    ")\n",
    "print(\"\\nClassification Report:\")\n",
    "print(report)"
   ]
  },
  {
   "cell_type": "code",
   "execution_count": 65,
   "metadata": {},
   "outputs": [
    {
     "data": {
      "image/png": "[encoded data removed]",
      "text/plain": [
       "<Figure size 1000x800 with 2 Axes>"
      ]
     },
     "metadata": {},
     "output_type": "display_data"
    }
   ],
   "source": [
    "# Confusion matrix\n",
    "cm = confusion_matrix(y_val, y_pred_classes)\n",
    "plt.figure(figsize=(10, 8))\n",
    "plt.imshow(cm, interpolation='nearest', cmap=plt.cm.Blues)\n",
    "plt.title('Confusion Matrix')\n",
    "plt.colorbar()\n",
    "tick_marks = np.arange(len(unique_labels))\n",
    "plt.xticks(tick_marks, unique_labels, rotation=45)\n",
    "plt.yticks(tick_marks, unique_labels)\n",
    "plt.tight_layout()\n",
    "plt.ylabel('True label')\n",
    "plt.xlabel('Predicted label')\n",
    "plt.show()"
   ]
  },
  {
   "cell_type": "code",
   "execution_count": 66,
   "metadata": {},
   "outputs": [
    {
     "data": {
      "image/png": "[encoded data removed]",
      "text/plain": [
       "<Figure size 1200x500 with 2 Axes>"
      ]
     },
     "metadata": {},
     "output_type": "display_data"
    }
   ],
   "source": [
    "plt.figure(figsize=(12, 5))\n",
    "plt.subplot(1, 2, 1)\n",
    "plt.plot(history.history['accuracy'], label='Training Accuracy')\n",
    "plt.plot(history.history['val_accuracy'], label='Validation Accuracy')\n",
    "plt.legend()\n",
    "plt.title('Accuracy')\n",
    "plt.subplot(1, 2, 2)\n",
    "plt.plot(history.history['loss'], label='Training Loss')\n",
    "plt.plot(history.history['val_loss'], label='Validation Loss')\n",
    "plt.legend()\n",
    "plt.title('Loss')\n",
    "plt.show()"
   ]
  },
  {
   "cell_type": "code",
   "execution_count": 67,
   "metadata": {},
   "outputs": [
    {
     "name": "stderr",
     "output_type": "stream",
     "text": [
      "WARNING:absl:You are saving your model as an HDF5 file via `model.save()` or `keras.saving.save_model(model)`. This file format is considered legacy. We recommend using instead the native Keras format, e.g. `model.save('my_model.keras')` or `keras.saving.save_model(model, 'my_model.keras')`. \n"
     ]
    }
   ],
   "source": [
    "model.save(\"clothesclassificationmodel.h5\")\n"
   ]
  },
  {
   "cell_type": "markdown",
   "metadata": {},
   "source": [
    "The methodological approach centered on effective training and evaluation strategies tailored to the clothing classification task. Transfer learning was employed using the pre-trained MobileNetV2 model to overcome the limitations of the relatively small dataset. Early stopping with a patience of 3 was implemented to prevent overfitting, automatically terminating training when validation loss stopped improving. Data augmentation was utilized during training to improve generalization by creating variations of the training images. Training was limited to 10 epochs maximum, with early termination based on validation loss performance. Key hyperparameters included a batch size of 32 for efficient GPU utilization, learning rate of 0.001, image size of 160x160 pixels (balancing detail and computational efficiency), and dropout rate of 0.5 to reduce overfitting. The evaluation approach used a stratified train-test split to ensure representative class distribution, with continuous monitoring of validation accuracy and loss during training. After training, a classification report was generated for detailed performance metrics across categories, and a confusion matrix was created to analyze misclassification patterns.\n"
   ]
  }
 ],
 "metadata": {
  "kernelspec": {
   "display_name": "base",
   "language": "python",
   "name": "python3"
  },
  "language_info": {
   "codemirror_mode": {
    "name": "ipython",
    "version": 3
   },
   "file_extension": ".py",
   "mimetype": "text/x-python",
   "name": "python",
   "nbconvert_exporter": "python",
   "pygments_lexer": "ipython3",
   "version": "3.12.2"
  }
 },
 "nbformat": 4,
 "nbformat_minor": 2
}
